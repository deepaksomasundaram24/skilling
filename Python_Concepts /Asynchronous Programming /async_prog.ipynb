{
 "cells": [
  {
   "cell_type": "code",
   "execution_count": 1,
   "metadata": {},
   "outputs": [],
   "source": [
    "import asyncio\n",
    "\n",
    "async def task1():\n",
    "    print(\"Task 1 has started\")\n",
    "    await asyncio.sleep(3)\n",
    "    print(\"Task 1 has completed\")\n",
    "\n",
    "async def task2():\n",
    "    print(\"Task 2 has stated\")\n",
    "    await asyncio.sleep(4)\n",
    "    print(\"Task 2 has completed\")\n",
    "\n",
    "async def main():\n",
    "    await asyncio.gather(task1(),task2())"
   ]
  }
 ],
 "metadata": {
  "kernelspec": {
   "display_name": "base",
   "language": "python",
   "name": "python3"
  },
  "language_info": {
   "codemirror_mode": {
    "name": "ipython",
    "version": 3
   },
   "file_extension": ".py",
   "mimetype": "text/x-python",
   "name": "python",
   "nbconvert_exporter": "python",
   "pygments_lexer": "ipython3",
   "version": "3.12.2"
  }
 },
 "nbformat": 4,
 "nbformat_minor": 2
}
