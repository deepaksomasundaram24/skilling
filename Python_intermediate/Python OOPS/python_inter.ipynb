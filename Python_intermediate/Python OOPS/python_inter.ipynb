{
 "cells": [
  {
   "cell_type": "markdown",
   "metadata": {},
   "source": [
    "14\tPython Intermediate\t\n",
    "Advanced Lists\tList Slicing & Comprehensions\t\n",
    "Extracting sublists with slicing, creating lists with one-liner loops, and copying techniques\t"
   ]
  },
  {
   "cell_type": "code",
   "execution_count": 4,
   "metadata": {},
   "outputs": [
    {
     "name": "stdout",
     "output_type": "stream",
     "text": [
      "[5, 4, 3, 2, 1]\n",
      "[2]\n"
     ]
    }
   ],
   "source": [
    "#Exercise 1\n",
    "#Write a function that reverses a list using slicing.\n",
    "\n",
    "def reverse_list(item):\n",
    "    return item[::-1]\n",
    "test = []\n",
    "test.append([1,2,3,4,5])\n",
    "test.append([2])\n",
    "\n",
    "for x in test: print(reverse_list(x))"
   ]
  },
  {
   "cell_type": "code",
   "execution_count": 6,
   "metadata": {},
   "outputs": [
    {
     "name": "stdout",
     "output_type": "stream",
     "text": [
      "[2, 4, 6, 8, 10, 12, 14, 16, 18, 20]\n"
     ]
    }
   ],
   "source": [
    "#Exercise 2\n",
    "#Write a list comprehension that generates all even numbers from 1 to 20.\n",
    "\n",
    "even = [x for x in range(2,22,2) if x % 2 == 0]\n",
    "print(even)"
   ]
  },
  {
   "cell_type": "code",
   "execution_count": 7,
   "metadata": {},
   "outputs": [
    {
     "name": "stdout",
     "output_type": "stream",
     "text": [
      "Original list: [5, 10, 15],Duplicate: [5, 10, 15, 20]\n"
     ]
    }
   ],
   "source": [
    "#Exercise 3\n",
    "#Write a program where modifying a copied list does not affect the original list.\n",
    "\n",
    "import copy \n",
    "original = [5,10,15]\n",
    "duplicate = original.copy()\n",
    "duplicate.append(20)\n",
    "print(f\"Original list: {original},Duplicate: {duplicate}\") "
   ]
  },
  {
   "cell_type": "markdown",
   "metadata": {},
   "source": [
    "Python Intermediate\t\n",
    "Row 15 Tuples Creation & Unpacking\tCreating tuples with (), unpacking values\n",
    "immutability benefits, and performance advantages"
   ]
  },
  {
   "cell_type": "code",
   "execution_count": 10,
   "metadata": {},
   "outputs": [
    {
     "name": "stdout",
     "output_type": "stream",
     "text": [
      "Age: 27\n"
     ]
    }
   ],
   "source": [
    "#Exercies 1 - Tuple packing \n",
    "person = (\"Deepak\", 27,\"India\")\n",
    "print(f\"Age: {age}\")\n"
   ]
  },
  {
   "cell_type": "code",
   "execution_count": 12,
   "metadata": {},
   "outputs": [
    {
     "name": "stdout",
     "output_type": "stream",
     "text": [
      "original tuple: (5, 10), reversed tuple: (10, 5)\n"
     ]
    }
   ],
   "source": [
    "#Exercise 2 - Tuple unpacking\n",
    "item = (5,10)\n",
    "a,b = item\n",
    "result = (b,a)\n",
    "print(f\"original tuple: {item}, reversed tuple: {result}\")"
   ]
  },
  {
   "cell_type": "code",
   "execution_count": 13,
   "metadata": {},
   "outputs": [
    {
     "name": "stdout",
     "output_type": "stream",
     "text": [
      "First element: John, Last element: Engineer\n"
     ]
    }
   ],
   "source": [
    "#Exercise 3 - Unpacking particular elements\n",
    "question = (\"John\", \"Doe\", 28, \"Engineer\")\n",
    "name, _, _, role = question\n",
    "print(f\"First element: {name}, Last element: {role}\")"
   ]
  },
  {
   "cell_type": "code",
   "execution_count": 22,
   "metadata": {},
   "outputs": [
    {
     "name": "stdout",
     "output_type": "stream",
     "text": [
      "Counter({3: 4, 1: 1, 2: 1, 4: 1, 5: 1})\n"
     ]
    }
   ],
   "source": [
    "#Exercise 4 - Return the most frequent element in tuple\n",
    "from collections import Counter\n",
    "numbers = (1, 3, 2, 3, 4, 3, 5, 3)\n",
    "answer = Counter(numbers)\n",
    "print(answer) # the first element represents the number and the second element represents the count"
   ]
  },
  {
   "cell_type": "code",
   "execution_count": 23,
   "metadata": {},
   "outputs": [
    {
     "name": "stdout",
     "output_type": "stream",
     "text": [
      "modified tuple: (10, 20, 30, 40), data type of tuple: <class 'tuple'>\n"
     ]
    }
   ],
   "source": [
    "#Exercise 5 - Convert a tuple to a list modify it and covnert it back\n",
    "original_tuple = (10, 20, 30)\n",
    "new_element = 40\n",
    "modified = list(original_tuple)\n",
    "modified.append(new_element)\n",
    "modified = tuple(modified)\n",
    "print(f\"modified tuple: {modified}, data type of tuple: {type(modified)}\")\n"
   ]
  },
  {
   "cell_type": "code",
   "execution_count": 24,
   "metadata": {},
   "outputs": [
    {
     "name": "stdout",
     "output_type": "stream",
     "text": [
      "(3, 10)\n"
     ]
    }
   ],
   "source": [
    "#Exercise 6 - Write a function get_min_max() that takes a tuple of numbers and returns both the minimum and maximum values as a tuple\n",
    "\n",
    "data = (10, 5, 8, 3, 7)\n",
    "\n",
    "def get_min_max(input):\n",
    "    return (min(input),max(input))\n",
    "\n",
    "print(get_min_max(data))"
   ]
  },
  {
   "cell_type": "markdown",
   "metadata": {},
   "source": [
    "Row 16\t\n",
    "Python Intermediate\t\n",
    "Advanced Dictionaries\tMethods & Merging\tUsing .get(), \n",
    ".update(), looping over keys/values, merging and copying dictionaries"
   ]
  },
  {
   "cell_type": "code",
   "execution_count": 25,
   "metadata": {},
   "outputs": [
    {
     "name": "stdout",
     "output_type": "stream",
     "text": [
      "None\n"
     ]
    }
   ],
   "source": [
    "#Exercise 1: Use get() to Retrieve Dictionary Values - Prevents Key Error\n",
    "\n",
    "student = {\"name\": \"Alice\", \"age\": 20}\n",
    "print(student.get(\"City\"))\n",
    "\n"
   ]
  },
  {
   "cell_type": "code",
   "execution_count": 26,
   "metadata": {},
   "outputs": [
    {
     "name": "stdout",
     "output_type": "stream",
     "text": [
      "{'a': 1, 'b': 3, 'c': 4}\n"
     ]
    }
   ],
   "source": [
    "#Exercise 2: Merge Two Dictionaries Using update()\n",
    "\n",
    "dict1 = {\"a\": 1, \"b\": 2}\n",
    "dict2 = {\"b\": 3, \"c\": 4}\n",
    "\n",
    "dict1.update(dict2)\n",
    "print(dict1)"
   ]
  },
  {
   "cell_type": "code",
   "execution_count": 28,
   "metadata": {},
   "outputs": [
    {
     "name": "stdout",
     "output_type": "stream",
     "text": [
      "{'name': 'Alice', 'age': 20, 'City': 'Chennai'}\n"
     ]
    }
   ],
   "source": [
    "#Exercise 3: Use setdefault() to Add Missing Keys\n",
    "\n",
    "student = {\"name\": \"Alice\", \"age\": 20}\n",
    "student.setdefault(\"name\",\"Deepak\")\n",
    "student.setdefault(\"City\",\"Chennai\")\n",
    "print(student)"
   ]
  },
  {
   "cell_type": "markdown",
   "metadata": {},
   "source": [
    "Row 17\t\n",
    "Python Intermediate\tSets\tCreation & Operations\tCreating sets with {} or set()\n",
    "performing union, intersection, difference, and checking for uniqueness"
   ]
  },
  {
   "cell_type": "code",
   "execution_count": 29,
   "metadata": {},
   "outputs": [
    {
     "name": "stdout",
     "output_type": "stream",
     "text": [
      "[1, 2, 3, 4, 5]\n"
     ]
    }
   ],
   "source": [
    "#Exercise 1: Remove Duplicates from a List Using Sets\n",
    "\n",
    "numbers = [1, 2, 2, 3, 4, 4, 5]\n",
    "numbers = set(numbers)\n",
    "numbers = list(numbers)\n",
    "print(numbers)"
   ]
  },
  {
   "cell_type": "code",
   "execution_count": 31,
   "metadata": {},
   "outputs": [
    {
     "name": "stdout",
     "output_type": "stream",
     "text": [
      "{3, 4}\n",
      "{3, 4}\n"
     ]
    }
   ],
   "source": [
    "#Exercise 2: Find Common Elements Between Two Sets (Intersection)\n",
    "A = {1, 2, 3, 4}\n",
    "B = {3, 4, 5, 6}\n",
    "\n",
    "print(A & B)\n",
    "print(A.intersection(B))"
   ]
  },
  {
   "cell_type": "code",
   "execution_count": 32,
   "metadata": {},
   "outputs": [
    {
     "name": "stdout",
     "output_type": "stream",
     "text": [
      "{1, 2, 3, 4, 5}\n",
      "{1, 2, 3, 4, 5}\n"
     ]
    }
   ],
   "source": [
    "#Exercise 3: Merge Two Sets Without Duplicates (Union)\n",
    "A = {1, 2, 3}\n",
    "B = {3, 4, 5}\n",
    "print(A | B)\n",
    "print(A.union(B))"
   ]
  },
  {
   "cell_type": "code",
   "execution_count": 33,
   "metadata": {},
   "outputs": [
    {
     "name": "stdout",
     "output_type": "stream",
     "text": [
      "{1, 2}\n"
     ]
    }
   ],
   "source": [
    "#Exercise 4: Find Elements Present in One Set but Not the Other (Difference)\n",
    "A = {1, 2, 3, 4}\n",
    "B = {3, 4, 5, 6}\n",
    "\n",
    "print(A - B)"
   ]
  },
  {
   "cell_type": "code",
   "execution_count": 34,
   "metadata": {},
   "outputs": [
    {
     "name": "stdout",
     "output_type": "stream",
     "text": [
      "{1, 2, 5, 6}\n"
     ]
    }
   ],
   "source": [
    "#Exercise 5: Find Elements That Are in Either Set but Not Both (Symmetric Difference)\n",
    "A = {1, 2, 3, 4}\n",
    "B = {3, 4, 5, 6}\n",
    "\n",
    "print(A ^ B)"
   ]
  },
  {
   "cell_type": "code",
   "execution_count": 35,
   "metadata": {},
   "outputs": [
    {
     "name": "stdout",
     "output_type": "stream",
     "text": [
      "set1 is a subset of set2\n"
     ]
    }
   ],
   "source": [
    "#Exercise 6: Check If a Set is a Subset of Another Set\n",
    "\n",
    "set1 = {1, 2}\n",
    "set2 = {1, 2, 3, 4}\n",
    "\n",
    "if len(set1 - set2) <= 0:\n",
    "    print(\"set1 is a subset of set2\")"
   ]
  },
  {
   "cell_type": "code",
   "execution_count": 37,
   "metadata": {},
   "outputs": [
    {
     "name": "stdout",
     "output_type": "stream",
     "text": [
      "Sets are disjoint\n"
     ]
    }
   ],
   "source": [
    "#Exercise 7: Check If Two Sets Are Disjoint (No Common Elements)\n",
    "A = {1, 2, 3}\n",
    "B = {4, 5, 6}\n",
    "\n",
    "if A.isdisjoint(B):\n",
    "    print(\"Sets are disjoint\")"
   ]
  },
  {
   "cell_type": "markdown",
   "metadata": {},
   "source": [
    "Row 18\t\n",
    "Python Intermediate\tAdvanced String Methods\tMulti-line Strings, \n",
    "Splitting, Joining, Formatting\tUsing triple quotes for multi-line strings, \n",
    ".split(), .join(), and formatting with %, .format(), and f-strings"
   ]
  },
  {
   "cell_type": "code",
   "execution_count": 39,
   "metadata": {},
   "outputs": [
    {
     "name": "stdout",
     "output_type": "stream",
     "text": [
      "Hello! Alice\n"
     ]
    }
   ],
   "source": [
    "#Exercise 1: Function with Parameters, Write a function greet(name) that takes a name as input and prints \"Hello, <name>!\", If no name is given, use \"Guest\" as the default value.\n",
    "def greet(name = \"Alice\"):\n",
    "    print(f\"Hello! {name}\")\n",
    "\n",
    "greet()"
   ]
  },
  {
   "cell_type": "code",
   "execution_count": null,
   "metadata": {},
   "outputs": [],
   "source": [
    "#Exercise 2: Function with Both *args and **kwargs\n"
   ]
  },
  {
   "cell_type": "code",
   "execution_count": 40,
   "metadata": {},
   "outputs": [
    {
     "name": "stdout",
     "output_type": "stream",
     "text": [
      "[27, 729, 3375, 9261, 19683]\n"
     ]
    }
   ],
   "source": [
    "#List comprehension\n",
    "numbers = [3, 6, 9, 12, 15, 18, 21, 24, 27, 30]\n",
    "\n",
    "filtered_numbers = list(filter(lambda x:x % 3 == 0 and x % 2 != 0,numbers))\n",
    "answer = [x**3 for x in filtered_numbers]\n",
    "\n",
    "print(answer)"
   ]
  },
  {
   "cell_type": "code",
   "execution_count": 41,
   "metadata": {},
   "outputs": [
    {
     "name": "stdout",
     "output_type": "stream",
     "text": [
      "original [1, 2, 3, 4, 5]\n",
      "shallow copy [6, 2, 3, 4, 5]\n",
      "original [[1, 6, 3], 2, 3, 4, 5]\n",
      "shallow copy [[1, 6, 3], 2, 3, 4, 5]\n"
     ]
    }
   ],
   "source": [
    "# Shallow copy and deep copy\n",
    "import copy \n",
    "item = [1,2,3,4,5]\n",
    "item_copy = copy.copy(item)\n",
    "item_copy[0] = 6\n",
    "print(\"original\",item)\n",
    "print(\"shallow copy\",item_copy)\n",
    "\n",
    "#Now try a nested list\n",
    "import copy \n",
    "item = [[1,2,3],2,3,4,5]\n",
    "item_copy = copy.copy(item)\n",
    "item_copy[0][1] = 6\n",
    "print(\"original\",item)\n",
    "print(\"shallow copy\",item_copy)"
   ]
  },
  {
   "cell_type": "code",
   "execution_count": 42,
   "metadata": {},
   "outputs": [
    {
     "name": "stdout",
     "output_type": "stream",
     "text": [
      "Strings Python Advanced\n"
     ]
    }
   ],
   "source": [
    "#Advacned Python Strings\n",
    "s = \"Advanced Python Strings\"\n",
    "words = s.split(\" \")\n",
    "swapped = \" \".join(words[::-1])\n",
    "print(swapped)"
   ]
  },
  {
   "cell_type": "code",
   "execution_count": 43,
   "metadata": {},
   "outputs": [
    {
     "name": "stdout",
     "output_type": "stream",
     "text": [
      "Counter({'a': 5, 'b': 4, 'c': 3, 'd': 2, 'e': 1})\n"
     ]
    }
   ],
   "source": [
    "#There is a new topic called collections that will be covered in this section\n",
    "#Counter\n",
    "#.keys()\n",
    "#.items()\n",
    "#.\n",
    "from collections import Counter\n",
    "from collections import Counter\n",
    "a = \"aaaaabbbbcccdde\"\n",
    "my_counter = Counter(a)\n",
    "print(my_counter)\n"
   ]
  },
  {
   "cell_type": "code",
   "execution_count": 44,
   "metadata": {},
   "outputs": [
    {
     "name": "stdout",
     "output_type": "stream",
     "text": [
      "2\n"
     ]
    }
   ],
   "source": [
    "#deque\n",
    "from collections import deque\n",
    "d = deque(['a','b','c','d','b'])\n",
    "#important functions here, append(), appendleft(), pop(), popleft(), clear() - this is used for clearing all the values in the deque, \n",
    "print(d.count('b'))\n",
    "d.extend(['e','f','g'])\n",
    "#extendleft()\n",
    "d.rotate(1) #right pushing \n",
    "d.rotate(-2) #left pushing"
   ]
  },
  {
   "cell_type": "code",
   "execution_count": 15,
   "metadata": {},
   "outputs": [
    {
     "name": "stdout",
     "output_type": "stream",
     "text": [
      "Key: the,Value: 2\n",
      "Key: quick,Value: 1\n",
      "Key: brown,Value: 1\n",
      "Key: fox,Value: 1\n",
      "Key: jumps,Value: 1\n",
      "Key: over,Value: 1\n",
      "Key: lazy,Value: 1\n",
      "Key: dog,Value: 1\n"
     ]
    }
   ],
   "source": [
    "#Exercise for default_dict\n",
    "#Defaultdict deals with key errors\n",
    "#Write a Python program that counts the frequency of words in a given sentence using defaultdict(). \n",
    "from collections import defaultdict\n",
    "test = \"The quick brown fox jumps over the lazy dog\"\n",
    "\n",
    "def word_frequency(sentence):\n",
    "    words = list(map(str,test.lower().split()))\n",
    "    word_count = defaultdict(int)\n",
    "    for word in words:\n",
    "        word_count[word] += 1\n",
    "    return word_count\n",
    "\n",
    "ans = word_frequency(test)\n",
    "for key,value in ans.items():\n",
    "    print(f\"Key: {key},Value: {value}\")\n"
   ]
  }
 ],
 "metadata": {
  "kernelspec": {
   "display_name": "venv",
   "language": "python",
   "name": "python3"
  },
  "language_info": {
   "codemirror_mode": {
    "name": "ipython",
    "version": 3
   },
   "file_extension": ".py",
   "mimetype": "text/x-python",
   "name": "python",
   "nbconvert_exporter": "python",
   "pygments_lexer": "ipython3",
   "version": "3.12.2"
  }
 },
 "nbformat": 4,
 "nbformat_minor": 2
}
