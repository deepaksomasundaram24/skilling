{
 "cells": [
  {
   "cell_type": "markdown",
   "metadata": {},
   "source": []
  },
  {
   "cell_type": "code",
   "execution_count": null,
   "metadata": {},
   "outputs": [],
   "source": [
    "#List comprehension\n",
    "numbers = [3, 6, 9, 12, 15, 18, 21, 24, 27, 30]\n",
    "\n",
    "filtered_numbers = list(filter(lambda x:x % 3 == 0 and x % 2 != 0,numbers))\n",
    "answer = [x**3 for x in filtered_numbers]\n",
    "\n",
    "print(answer)"
   ]
  },
  {
   "cell_type": "code",
   "execution_count": 7,
   "metadata": {},
   "outputs": [
    {
     "name": "stdout",
     "output_type": "stream",
     "text": [
      "original [1, 2, 3, 4, 5]\n",
      "shallow copy [6, 2, 3, 4, 5]\n",
      "original [[1, 6, 3], 2, 3, 4, 5]\n",
      "shallow copy [[1, 6, 3], 2, 3, 4, 5]\n"
     ]
    }
   ],
   "source": [
    "# Shallow copy and deep copy\n",
    "import copy \n",
    "item = [1,2,3,4,5]\n",
    "item_copy = copy.copy(item)\n",
    "item_copy[0] = 6\n",
    "print(\"original\",item)\n",
    "print(\"shallow copy\",item_copy)\n",
    "\n",
    "#Now try a nested list\n",
    "import copy \n",
    "item = [[1,2,3],2,3,4,5]\n",
    "item_copy = copy.copy(item)\n",
    "item_copy[0][1] = 6\n",
    "print(\"original\",item)\n",
    "print(\"shallow copy\",item_copy)\n"
   ]
  },
  {
   "cell_type": "code",
   "execution_count": 11,
   "metadata": {},
   "outputs": [
    {
     "name": "stdout",
     "output_type": "stream",
     "text": [
      "<class 'str'>\n",
      "<class 'int'>\n"
     ]
    }
   ],
   "source": [
    "#Tuple unpacking\n",
    "person = (\"Alice\", 25, \"Engineer\")\n",
    "\n",
    "name, age, profession = person\n",
    "print(type(name))\n",
    "print(type(age))"
   ]
  },
  {
   "cell_type": "code",
   "execution_count": 12,
   "metadata": {},
   "outputs": [
    {
     "data": {
      "text/plain": [
       "[5, 3, 9]"
      ]
     },
     "execution_count": 12,
     "metadata": {},
     "output_type": "execute_result"
    }
   ],
   "source": [
    "#List comprehension for removing elements in a list\n",
    "items = [5, -1, 3, -2, 9, -4]\n",
    "[x for x in items if x >= 0 ]"
   ]
  },
  {
   "cell_type": "code",
   "execution_count": 15,
   "metadata": {},
   "outputs": [
    {
     "data": {
      "text/plain": [
       "{1: 1, 2: 4, 3: 9, 4: 16, 5: 25}"
      ]
     },
     "execution_count": 15,
     "metadata": {},
     "output_type": "execute_result"
    }
   ],
   "source": [
    "#dictionary comprehension \n",
    "{x:x**2 for x in [1,2,3,4,5]}"
   ]
  },
  {
   "cell_type": "markdown",
   "metadata": {},
   "source": [
    "#nested dictionary, accessing these elements is like acceessing the elements of a nested list using [][]"
   ]
  },
  {
   "cell_type": "code",
   "execution_count": 18,
   "metadata": {},
   "outputs": [
    {
     "name": "stdout",
     "output_type": "stream",
     "text": [
      "{'cherry', 'orange', 'apple'}\n"
     ]
    }
   ],
   "source": [
    "#creating elements of a set - add method is used for adding elements to a set, append is used for adding elements to a list and \n",
    "fruits = set(('apple','banana','cherry'))\n",
    "fruits.add('orange')\n",
    "fruits.remove('banana')\n",
    "print(fruits)"
   ]
  },
  {
   "cell_type": "code",
   "execution_count": null,
   "metadata": {},
   "outputs": [],
   "source": [
    "#Nested dictionaries, syntax for accessing these elements is like accesing elements of a nested list "
   ]
  },
  {
   "cell_type": "code",
   "execution_count": 27,
   "metadata": {},
   "outputs": [
    {
     "name": "stdout",
     "output_type": "stream",
     "text": [
      "{1, 2, 3, 4, 5, 6}\n",
      "{3, 4}\n"
     ]
    }
   ],
   "source": [
    "#union and intersection of sets\n",
    "set1 = {1,2,3,4}\n",
    "set2 = {3,4,5,6}\n",
    "\n",
    "set3 = set1.union(set2)\n",
    "print(set3)\n",
    "\n",
    "set4 = set1.intersection(set2)\n",
    "print(set4)\n",
    "\n",
    "set5 = set1.difference(set2)\n",
    "print(set5)\n",
    "\n",
    "set6 = set1.symmetric_difference(set2)\n",
    "print(set6)"
   ]
  },
  {
   "cell_type": "code",
   "execution_count": 29,
   "metadata": {},
   "outputs": [
    {
     "name": "stdout",
     "output_type": "stream",
     "text": [
      "Strings Python Advanced\n"
     ]
    }
   ],
   "source": [
    "#Advacned Python Strings\n",
    "s = \"Advanced Python Strings\"\n",
    "words = s.split(\" \")\n",
    "swapped = \" \".join(words[::-1])\n",
    "print(swapped)"
   ]
  },
  {
   "cell_type": "code",
   "execution_count": null,
   "metadata": {},
   "outputs": [],
   "source": [
    "#There is a new topic called collections that will be covered in this section\n",
    "#Counter\n",
    "#.keys()\n",
    "#.items()\n",
    "#.\n",
    "from collections import Counter\n",
    "from collections import Counter\n",
    "a = \"aaaaabbbbcccdde\"\n",
    "my_counter = Counter(a)\n",
    "print(my_counter)"
   ]
  },
  {
   "cell_type": "code",
   "execution_count": 31,
   "metadata": {},
   "outputs": [
    {
     "name": "stdout",
     "output_type": "stream",
     "text": [
      "2\n"
     ]
    }
   ],
   "source": [
    "#deque\n",
    "from collections import deque\n",
    "d = deque(['a','b','c','d','b'])\n",
    "#important functions here, append(), appendleft(), pop(), popleft(), clear() - this is used for clearing all the values in the deque, \n",
    "print(d.count('b'))\n",
    "d.extend(['e','f','g'])\n",
    "#extendleft()\n",
    "d.rotate(1) #right pushing \n",
    "d.rotate(-2) #left pushing"
   ]
  }
 ],
 "metadata": {
  "kernelspec": {
   "display_name": "base",
   "language": "python",
   "name": "python3"
  },
  "language_info": {
   "codemirror_mode": {
    "name": "ipython",
    "version": 3
   },
   "file_extension": ".py",
   "mimetype": "text/x-python",
   "name": "python",
   "nbconvert_exporter": "python",
   "pygments_lexer": "ipython3",
   "version": "3.12.2"
  }
 },
 "nbformat": 4,
 "nbformat_minor": 2
}
