{
 "cells": [
  {
   "cell_type": "markdown",
   "metadata": {},
   "source": [
    "Row 1: Python Basics\tIntroduction to Python\tOverview of Python\tPopularity, \n",
    "versatility, and use cases (scripting, web development, data science, etc.)"
   ]
  },
  {
   "cell_type": "code",
   "execution_count": 1,
   "metadata": {},
   "outputs": [
    {
     "name": "stdout",
     "output_type": "stream",
     "text": [
      "name is of type <class 'str'> \n",
      " name is of type <class 'int'> \n",
      " height is of type <class 'float'> \n",
      " student is of type <class 'bool'>\n"
     ]
    }
   ],
   "source": [
    "#Exercise 1: Identify Data Types, Create variables for: A name (string), An age (integer), A height (float), A Boolean indicating if the person is a student, Print each variable’s data type using type().\n",
    "name = \"Deepak\"\n",
    "age = 27\n",
    "height = 172.7\n",
    "student = True \n",
    "print(f\"name is of type {type(name)}\",\"\\n\",f\"name is of type {type(age)}\",\"\\n\",f\"height is of type {type(height)}\",\"\\n\",f\"student is of type {type(student)}\")"
   ]
  },
  {
   "cell_type": "code",
   "execution_count": 2,
   "metadata": {},
   "outputs": [],
   "source": [
    "#Exercise 2: Type Conversion, Convert \"50\" (string) to an integer, Convert 3.14 (float) to an integer, Convert 100 (integer) to a string.\n",
    "\n",
    "a = int(\"50\")\n",
    "b = int(3.14)\n",
    "c = str(100)"
   ]
  },
  {
   "cell_type": "code",
   "execution_count": 3,
   "metadata": {},
   "outputs": [
    {
     "name": "stdout",
     "output_type": "stream",
     "text": [
      "5 10\n",
      "10 5\n"
     ]
    }
   ],
   "source": [
    "#Exercise 3: Swapping Two Variables Without a Temporary Variable\n",
    "a = 5\n",
    "b = 10\n",
    "print(a,b)\n",
    "b,a = a,b\n",
    "print(a,b)"
   ]
  },
  {
   "cell_type": "code",
   "execution_count": 4,
   "metadata": {},
   "outputs": [
    {
     "name": "stdout",
     "output_type": "stream",
     "text": [
      "1 2 3\n",
      "100 100 100\n"
     ]
    }
   ],
   "source": [
    "#Exercise 4: Multiple Assignments\n",
    "\n",
    "x,y,z = 1,2,3\n",
    "print(x,y,z)\n",
    "a = b = c = 100\n",
    "print(a,b,c)"
   ]
  },
  {
   "cell_type": "code",
   "execution_count": 7,
   "metadata": {},
   "outputs": [
    {
     "name": "stdout",
     "output_type": "stream",
     "text": [
      "Valid\n"
     ]
    }
   ],
   "source": [
    "#Exercise 5: Check if a Variable is a Certain Type\n",
    "\n",
    "def check_variable(input):\n",
    "    if isinstance(input,int):\n",
    "        print(\"Valid\")\n",
    "    else:\n",
    "        print(\"Invalid\")\n",
    "\n",
    "check_variable(42)"
   ]
  },
  {
   "cell_type": "markdown",
   "metadata": {},
   "source": [
    "Row 2\tPython Basics\tSetting Up Python\tEnvironment Setup\tUsing Replit, installing Python locally, configuring VS Code"
   ]
  },
  {
   "cell_type": "code",
   "execution_count": 8,
   "metadata": {},
   "outputs": [
    {
     "name": "stdout",
     "output_type": "stream",
     "text": [
      "Hello Deepak!\n"
     ]
    }
   ],
   "source": [
    "#Exercise 1: Take a User's Name and Greet Them\n",
    "item = str(input(\"Enter your name:\"))\n",
    "print(\"Hello\",f\"{item}!\")"
   ]
  },
  {
   "cell_type": "code",
   "execution_count": 9,
   "metadata": {},
   "outputs": [
    {
     "name": "stdout",
     "output_type": "stream",
     "text": [
      "You are 27 years old.\n"
     ]
    }
   ],
   "source": [
    "#Exercise 2: Convert User Input to an Integer\n",
    "item = int(input(\"Enter your age:\"))\n",
    "print(f\"You are {item} years old.\")\n"
   ]
  },
  {
   "cell_type": "code",
   "execution_count": 11,
   "metadata": {},
   "outputs": [
    {
     "name": "stdout",
     "output_type": "stream",
     "text": [
      "Area: 36.0\n"
     ]
    }
   ],
   "source": [
    "#Exercise 3: Calculate the Area of a Rectangle (Float Input)\n",
    "length = float(input(\"Enter length:\"))\n",
    "width = float(input(\"Enter width:\"))\n",
    "print(f\"Area: {length*width}\")"
   ]
  },
  {
   "cell_type": "code",
   "execution_count": 13,
   "metadata": {},
   "outputs": [
    {
     "name": "stdout",
     "output_type": "stream",
     "text": [
      "Sum: 12\n"
     ]
    }
   ],
   "source": [
    "#Exercise 4: Take Multiple Numbers in One Line and Find Their Sum\n",
    "item = list(map(int,input(\"Enter 3 numbers\").split()))\n",
    "print(f\"Sum: {sum(item)}\")"
   ]
  },
  {
   "cell_type": "code",
   "execution_count": 15,
   "metadata": {},
   "outputs": [
    {
     "name": "stdout",
     "output_type": "stream",
     "text": [
      "You have entered: 56.0\n"
     ]
    }
   ],
   "source": [
    "#Exercise 5: Check If Input is a Number (Safe Input Handling)\n",
    "try:\n",
    "    num = float(input(\"Enter a number:\"))\n",
    "    print(f\"You have entered: {num}\")\n",
    "except:\n",
    "    print(\"Error: Please enter a valid number!\")"
   ]
  },
  {
   "cell_type": "code",
   "execution_count": 17,
   "metadata": {},
   "outputs": [
    {
     "name": "stdout",
     "output_type": "stream",
     "text": [
      "{'name': 'Roger', 'age': 10, 'color': 'Blue'}\n",
      "('color', 'Blue')\n",
      "True\n",
      "False\n",
      "['name', 'age']\n",
      "dict_keys(['name', 'age'])\n",
      "dict_keys(['name', 'age', 'size'])\n",
      "The dict is deleted\n",
      "The dictionary does not exist\n"
     ]
    }
   ],
   "source": [
    "#popitem() method for dictionary - it is used to retrieve and delete the last dictionary item\n",
    "new_dict = {\"name\":\"Roger\",\"age\":10,\"color\":\"Blue\"}\n",
    "print(new_dict)\n",
    "print(new_dict.popitem())\n",
    "\n",
    "#instance 'in' in dictionary\n",
    "print(\"name\" in new_dict)\n",
    "print(\"name\" not in new_dict)\n",
    "\n",
    "#keys(), items(), values() methods \n",
    "#.keys() is a dynamic method\n",
    "print(list(new_dict.keys()))\n",
    "values = new_dict.keys()\n",
    "print(values)\n",
    "new_dict[\"size\"] = \"small\"\n",
    "print(values)\n",
    "\n",
    "#Deleting items in a dictionary\n",
    "new_dict_1 = {\"name\":\"Roger\",\"age\":10,\"color\":\"Blue\"}\n",
    "del new_dict_1\n",
    "print(\"The dict is deleted\")\n",
    "try:\n",
    "    print(new_dict_1)\n",
    "except NameError:\n",
    "\n",
    "    print(\"The dictionary does not exist\")"
   ]
  },
  {
   "cell_type": "code",
   "execution_count": 19,
   "metadata": {},
   "outputs": [
    {
     "name": "stdout",
     "output_type": "stream",
     "text": [
      "{'name': 'Roger', 'color': 'Blue'}\n"
     ]
    }
   ],
   "source": [
    "#Deleting the dictionary\n",
    "new_dict_1 = {\"name\":\"Roger\",\"age\":10,\"color\":\"Blue\"}\n",
    "del new_dict_1[\"age\"]\n",
    "print(new_dict_1) "
   ]
  },
  {
   "cell_type": "code",
   "execution_count": 21,
   "metadata": {},
   "outputs": [
    {
     "name": "stdout",
     "output_type": "stream",
     "text": [
      "{'name': 'Roger', 'age': 10, 'color': 'Blue'}\n"
     ]
    }
   ],
   "source": [
    "#Copying a dictionary\n",
    "dict_2 = new_dict.copy()\n",
    "print(dict_2)"
   ]
  },
  {
   "cell_type": "code",
   "execution_count": 28,
   "metadata": {},
   "outputs": [
    {
     "name": "stdout",
     "output_type": "stream",
     "text": [
      "{'Eat', 'Game', 'Sleep'}\n",
      "6\n"
     ]
    }
   ],
   "source": [
    "#Sets \n",
    "set1 = {\"Game\",\"Sleep\"}\n",
    "set2 = {\"Eat\", \"Sleep\"}\n",
    "set3 = set1.union(set2)\n",
    "print(set3)\n",
    "set4 = {1,2,3}\n",
    "print(sum(set4))"
   ]
  },
  {
   "cell_type": "code",
   "execution_count": 30,
   "metadata": {},
   "outputs": [
    {
     "name": "stdout",
     "output_type": "stream",
     "text": [
      "{'name': 'yogananda'}\n",
      "{'name': 'yogananda'}\n"
     ]
    }
   ],
   "source": [
    "#Dictionaries are mutatable when pass into a function and is reflected outside the scope of the function (I have a doubt with this...)\n",
    "new_dict_5 = {\"name\":\"yogananda\"}\n",
    "print(new_dict_5)\n",
    "def mod_dict(input_dict):\n",
    "    input_dict[\"name\"] = \"paramahamsa\"\n",
    "mod_dict(new_dict_5)\n",
    "print(new_dict_5)"
   ]
  },
  {
   "cell_type": "code",
   "execution_count": 6,
   "metadata": {},
   "outputs": [
    {
     "name": "stdout",
     "output_type": "stream",
     "text": [
      "1\n",
      "0\n",
      "1\n",
      "0\n",
      "1\n",
      "0\n"
     ]
    }
   ],
   "source": [
    "#Nested funcitons (is declaring as non-local needed ?) #Closures \n",
    "def count():\n",
    "    var_one = 0\n",
    "    def increment():\n",
    "        print(var_one + 1)\n",
    "        return var_one\n",
    "\n",
    "    return increment\n",
    "\n",
    "inc = count()\n",
    "print(inc())\n",
    "print(inc())\n",
    "print(inc())"
   ]
  },
  {
   "cell_type": "code",
   "execution_count": 99,
   "metadata": {},
   "outputs": [
    {
     "name": "stdout",
     "output_type": "stream",
     "text": [
      "4\n"
     ]
    }
   ],
   "source": [
    "#bit_length() - function\n",
    "a = 10\n",
    "print(a.bit_length())"
   ]
  },
  {
   "cell_type": "code",
   "execution_count": 78,
   "metadata": {},
   "outputs": [
    {
     "name": "stdout",
     "output_type": "stream",
     "text": [
      "Roger\n",
      "None\n",
      "Deepak\n"
     ]
    }
   ],
   "source": [
    "#Dictionary Basics\n",
    "new_dict = {\"name\":\"Roger\",\"age\":10,\"color\":\"Blue\"}\n",
    "print(new_dict.get(\"name\"))\n",
    "print(new_dict.get(\"breed\"))\n",
    "print(new_dict.get(\"breed\",\"Deepak\"))"
   ]
  },
  {
   "cell_type": "code",
   "execution_count": 79,
   "metadata": {},
   "outputs": [
    {
     "name": "stdout",
     "output_type": "stream",
     "text": [
      "{1: 'beau', 2: 'ashok', 3: 'aron'}\n"
     ]
    }
   ],
   "source": [
    "#enumerate function \n",
    "items = [\"beau\",\"ashok\",\"aron\"]\n",
    "items_dict =  {index:item for index,item in enumerate(items, start = 1)}\n",
    "print(items_dict)"
   ]
  },
  {
   "cell_type": "code",
   "execution_count": 80,
   "metadata": {},
   "outputs": [
    {
     "name": "stdout",
     "output_type": "stream",
     "text": [
      "[1, 2, 3, [1, 5, 3]]\n",
      "[1, 2, 3, [1, 4, 3]]\n"
     ]
    }
   ],
   "source": [
    "#Difference between shallow copy and deepcopy, understand how to call copy() and deepcopy()\n",
    "from copy import deepcopy\n",
    "set1 = [1,2,3,[1,2,3]]\n",
    "#print(set1)\n",
    "set2 = set1.copy()\n",
    "#print(set2)\n",
    "set2[3][1] = 4\n",
    "#print(set2)\n",
    "#print(set1)\n",
    "set3 = deepcopy(set1)\n",
    "set3[3][1] = 5\n",
    "print(set3)\n",
    "print(set1)"
   ]
  },
  {
   "cell_type": "code",
   "execution_count": 81,
   "metadata": {},
   "outputs": [
    {
     "name": "stdout",
     "output_type": "stream",
     "text": [
      "Woof!\n",
      "None\n",
      "Walking\n",
      "max\n"
     ]
    }
   ],
   "source": [
    "#Classes and objects\n",
    "class Animal():\n",
    "    def walk(self):\n",
    "        print(\"Walking\")\n",
    "\n",
    "class Dog(Animal):\n",
    "    def __init__(self,name,age):\n",
    "        self.name = name \n",
    "        self.age = age \n",
    "\n",
    "    def bark(self):\n",
    "        print(\"Woof!\")\n",
    "\n",
    "max = Dog(\"max\",8)\n",
    "print(max.bark())\n",
    "max.walk()\n",
    "print(max.name)"
   ]
  },
  {
   "cell_type": "code",
   "execution_count": 82,
   "metadata": {},
   "outputs": [],
   "source": [
    "#Argument parser"
   ]
  },
  {
   "cell_type": "code",
   "execution_count": 83,
   "metadata": {},
   "outputs": [
    {
     "name": "stdout",
     "output_type": "stream",
     "text": [
      "[4, 7, 12]\n"
     ]
    }
   ],
   "source": [
    "#map()\n",
    "number = [1,2,3]\n",
    "func = lambda x : x**2 + 3\n",
    "print(list(map(func,number)))"
   ]
  },
  {
   "cell_type": "code",
   "execution_count": 84,
   "metadata": {},
   "outputs": [
    {
     "name": "stdout",
     "output_type": "stream",
     "text": [
      "Help on class float in module builtins:\n",
      "\n",
      "class float(object)\n",
      " |  float(x=0, /)\n",
      " |\n",
      " |  Convert a string or number to a floating point number, if possible.\n",
      " |\n",
      " |  Methods defined here:\n",
      " |\n",
      " |  __abs__(self, /)\n",
      " |      abs(self)\n",
      " |\n",
      " |  __add__(self, value, /)\n",
      " |      Return self+value.\n",
      " |\n",
      " |  __bool__(self, /)\n",
      " |      True if self else False\n",
      " |\n",
      " |  __ceil__(self, /)\n",
      " |      Return the ceiling as an Integral.\n",
      " |\n",
      " |  __divmod__(self, value, /)\n",
      " |      Return divmod(self, value).\n",
      " |\n",
      " |  __eq__(self, value, /)\n",
      " |      Return self==value.\n",
      " |\n",
      " |  __float__(self, /)\n",
      " |      float(self)\n",
      " |\n",
      " |  __floor__(self, /)\n",
      " |      Return the floor as an Integral.\n",
      " |\n",
      " |  __floordiv__(self, value, /)\n",
      " |      Return self//value.\n",
      " |\n",
      " |  __format__(self, format_spec, /)\n",
      " |      Formats the float according to format_spec.\n",
      " |\n",
      " |  __ge__(self, value, /)\n",
      " |      Return self>=value.\n",
      " |\n",
      " |  __getattribute__(self, name, /)\n",
      " |      Return getattr(self, name).\n",
      " |\n",
      " |  __getnewargs__(self, /)\n",
      " |\n",
      " |  __gt__(self, value, /)\n",
      " |      Return self>value.\n",
      " |\n",
      " |  __hash__(self, /)\n",
      " |      Return hash(self).\n",
      " |\n",
      " |  __int__(self, /)\n",
      " |      int(self)\n",
      " |\n",
      " |  __le__(self, value, /)\n",
      " |      Return self<=value.\n",
      " |\n",
      " |  __lt__(self, value, /)\n",
      " |      Return self<value.\n",
      " |\n",
      " |  __mod__(self, value, /)\n",
      " |      Return self%value.\n",
      " |\n",
      " |  __mul__(self, value, /)\n",
      " |      Return self*value.\n",
      " |\n",
      " |  __ne__(self, value, /)\n",
      " |      Return self!=value.\n",
      " |\n",
      " |  __neg__(self, /)\n",
      " |      -self\n",
      " |\n",
      " |  __pos__(self, /)\n",
      " |      +self\n",
      " |\n",
      " |  __pow__(self, value, mod=None, /)\n",
      " |      Return pow(self, value, mod).\n",
      " |\n",
      " |  __radd__(self, value, /)\n",
      " |      Return value+self.\n",
      " |\n",
      " |  __rdivmod__(self, value, /)\n",
      " |      Return divmod(value, self).\n",
      " |\n",
      " |  __repr__(self, /)\n",
      " |      Return repr(self).\n",
      " |\n",
      " |  __rfloordiv__(self, value, /)\n",
      " |      Return value//self.\n",
      " |\n",
      " |  __rmod__(self, value, /)\n",
      " |      Return value%self.\n",
      " |\n",
      " |  __rmul__(self, value, /)\n",
      " |      Return value*self.\n",
      " |\n",
      " |  __round__(self, ndigits=None, /)\n",
      " |      Return the Integral closest to x, rounding half toward even.\n",
      " |\n",
      " |      When an argument is passed, work like built-in round(x, ndigits).\n",
      " |\n",
      " |  __rpow__(self, value, mod=None, /)\n",
      " |      Return pow(value, self, mod).\n",
      " |\n",
      " |  __rsub__(self, value, /)\n",
      " |      Return value-self.\n",
      " |\n",
      " |  __rtruediv__(self, value, /)\n",
      " |      Return value/self.\n",
      " |\n",
      " |  __sub__(self, value, /)\n",
      " |      Return self-value.\n",
      " |\n",
      " |  __truediv__(self, value, /)\n",
      " |      Return self/value.\n",
      " |\n",
      " |  __trunc__(self, /)\n",
      " |      Return the Integral closest to x between 0 and x.\n",
      " |\n",
      " |  as_integer_ratio(self, /)\n",
      " |      Return a pair of integers, whose ratio is exactly equal to the original float.\n",
      " |\n",
      " |      The ratio is in lowest terms and has a positive denominator.  Raise\n",
      " |      OverflowError on infinities and a ValueError on NaNs.\n",
      " |\n",
      " |      >>> (10.0).as_integer_ratio()\n",
      " |      (10, 1)\n",
      " |      >>> (0.0).as_integer_ratio()\n",
      " |      (0, 1)\n",
      " |      >>> (-.25).as_integer_ratio()\n",
      " |      (-1, 4)\n",
      " |\n",
      " |  conjugate(self, /)\n",
      " |      Return self, the complex conjugate of any float.\n",
      " |\n",
      " |  hex(self, /)\n",
      " |      Return a hexadecimal representation of a floating-point number.\n",
      " |\n",
      " |      >>> (-0.1).hex()\n",
      " |      '-0x1.999999999999ap-4'\n",
      " |      >>> 3.14159.hex()\n",
      " |      '0x1.921f9f01b866ep+1'\n",
      " |\n",
      " |  is_integer(self, /)\n",
      " |      Return True if the float is an integer.\n",
      " |\n",
      " |  ----------------------------------------------------------------------\n",
      " |  Class methods defined here:\n",
      " |\n",
      " |  __getformat__(typestr, /) from builtins.type\n",
      " |      You probably don't want to use this function.\n",
      " |\n",
      " |        typestr\n",
      " |          Must be 'double' or 'float'.\n",
      " |\n",
      " |      It exists mainly to be used in Python's test suite.\n",
      " |\n",
      " |      This function returns whichever of 'unknown', 'IEEE, big-endian' or 'IEEE,\n",
      " |      little-endian' best describes the format of floating point numbers used by the\n",
      " |      C type named by typestr.\n",
      " |\n",
      " |  fromhex(string, /) from builtins.type\n",
      " |      Create a floating-point number from a hexadecimal string.\n",
      " |\n",
      " |      >>> float.fromhex('0x1.ffffp10')\n",
      " |      2047.984375\n",
      " |      >>> float.fromhex('-0x1p-1074')\n",
      " |      -5e-324\n",
      " |\n",
      " |  ----------------------------------------------------------------------\n",
      " |  Static methods defined here:\n",
      " |\n",
      " |  __new__(*args, **kwargs) from builtins.type\n",
      " |      Create and return a new object.  See help(type) for accurate signature.\n",
      " |\n",
      " |  ----------------------------------------------------------------------\n",
      " |  Data descriptors defined here:\n",
      " |\n",
      " |  imag\n",
      " |      the imaginary part of a complex number\n",
      " |\n",
      " |  real\n",
      " |      the real part of a complex number\n",
      "\n",
      "None\n"
     ]
    }
   ],
   "source": [
    "#reduce() function \n",
    "print(help(float))"
   ]
  },
  {
   "cell_type": "code",
   "execution_count": 85,
   "metadata": {},
   "outputs": [
    {
     "name": "stdout",
     "output_type": "stream",
     "text": [
      "<class 'float'>\n"
     ]
    }
   ],
   "source": [
    "#Python ignores annotations, annotations are used to specify the data type to the reader of the code\n",
    "count : int = 0.0\n",
    "print(type(count))"
   ]
  },
  {
   "cell_type": "code",
   "execution_count": 86,
   "metadata": {},
   "outputs": [
    {
     "name": "stdout",
     "output_type": "stream",
     "text": [
      "try block\n",
      "Control is in the finally block\n"
     ]
    }
   ],
   "source": [
    "#try and except block\n",
    "try:\n",
    "    print(\"try block\")\n",
    "except:\n",
    "    print(\"this is the accept block\")\n",
    "finally:\n",
    "    print(\"Control is in the finally block\")"
   ]
  },
  {
   "cell_type": "code",
   "execution_count": 87,
   "metadata": {},
   "outputs": [
    {
     "name": "stdout",
     "output_type": "stream",
     "text": [
      "this code is faulty\n",
      "There was a user defined exception\n"
     ]
    }
   ],
   "source": [
    "#exceptions - raising error\n",
    "try:\n",
    "    raise Exception(\"this code is faulty\")\n",
    "except Exception as error:\n",
    "    print(error)\n",
    "\n",
    "class user_defined_exception(Exception):\n",
    "    pass\n",
    "\n",
    "try:\n",
    "    raise user_defined_exception\n",
    "except user_defined_exception:\n",
    "    print(\"There was a user defined exception\")"
   ]
  },
  {
   "cell_type": "code",
   "execution_count": 88,
   "metadata": {},
   "outputs": [
    {
     "name": "stdout",
     "output_type": "stream",
     "text": [
      "True\n",
      "True\n"
     ]
    }
   ],
   "source": [
    "#isinstance()\n",
    "name = \"Deepak\"\n",
    "print(isinstance(name,str))\n",
    "age = 2\n",
    "print(isinstance(age,int))"
   ]
  },
  {
   "cell_type": "code",
   "execution_count": 89,
   "metadata": {},
   "outputs": [],
   "source": [
    "#with is used for automaticallly closing a file among other capabilities\n",
    "filename =  '/Users/user/Projects/Learning/Python_basics/dummy.txt'\n",
    "with open(filename,'r') as file:\n",
    "    content = file.read()"
   ]
  },
  {
   "cell_type": "code",
   "execution_count": 90,
   "metadata": {},
   "outputs": [
    {
     "name": "stdout",
     "output_type": "stream",
     "text": [
      "1\n",
      "12\n",
      "Hey\n",
      "Hi\n",
      "False\n",
      "[]\n"
     ]
    }
   ],
   "source": [
    "#Expresssion evaluation for logical operators\n",
    "print(0 or 1)\n",
    "print(12 or False)\n",
    "print(False or 'Hey')\n",
    "print('Hi' or 'Hey')\n",
    "print([] or False)\n",
    "print(False or [])"
   ]
  },
  {
   "cell_type": "code",
   "execution_count": 91,
   "metadata": {},
   "outputs": [
    {
     "name": "stdout",
     "output_type": "stream",
     "text": [
      "False\n"
     ]
    }
   ],
   "source": [
    "#Operator overloading, here __gt__ works for > or < operator, there are other methods that respond to other operators\n",
    "class Dog():\n",
    "    def __init__(self,name,age):\n",
    "        self.name = name\n",
    "        self.age = age\n",
    "    def __gt__(self,other):\n",
    "        return True if self.age > other.age else False\n",
    "\n",
    "kaki = Dog(\"kaki\",5)\n",
    "manja = Dog(\"manja\",8)\n",
    "print(manja < kaki)"
   ]
  },
  {
   "cell_type": "code",
   "execution_count": 92,
   "metadata": {},
   "outputs": [
    {
     "name": "stdout",
     "output_type": "stream",
     "text": [
      "['Quincy', 2, 'Game', 'Asia', 4]\n",
      "4\n",
      "Asia\n",
      "Game\n",
      "['Quincy', 'Play', 2]\n",
      "['Quincy', 'Cambodia', 'Disney', 'Play', 2]\n"
     ]
    }
   ],
   "source": [
    "#Miscellaneous - list \n",
    "\n",
    "#appending a list using + \n",
    "dogs = [\"Quincy\",2,\"Game\"]\n",
    "dogs += [\"Asia\",4]\n",
    "print(dogs)\n",
    "\n",
    "#pop method removes and returns the last element in the list \n",
    "for i in range(3):\n",
    "    print(dogs.pop())\n",
    "\n",
    "#inserting values in the list at the particular index\n",
    "dogs.insert(1,\"Play\")\n",
    "print(dogs)\n",
    "dogs[1:1] = [\"Cambodia\", \"Disney\"]\n",
    "print(dogs)"
   ]
  },
  {
   "cell_type": "code",
   "execution_count": 93,
   "metadata": {},
   "outputs": [
    {
     "name": "stdout",
     "output_type": "stream",
     "text": [
      "['Game', 'Basketball', 'Foodball', 'Cricket', 'Handball', 'Tennis']\n",
      "['Game', 'Basketball', 'Foodball', 'Cricket', 'Handball', 'Tennis']\n"
     ]
    }
   ],
   "source": [
    "#Sorting with lower case\n",
    "items = [\"Game\",\"Basketball\",\"Foodball\", \"Cricket\",\"Handball\",\"Tennis\"]\n",
    "print(items)\n",
    "sorted(items,key = str.lower)\n",
    "print(items)\n",
    "#items.sort(key = str.lower) #this also does not modify the original list\n",
    "#print(items)\n",
    "itemscopy = items[:]"
   ]
  },
  {
   "cell_type": "code",
   "execution_count": 94,
   "metadata": {},
   "outputs": [
    {
     "name": "stdout",
     "output_type": "stream",
     "text": [
      "Roger\n",
      "None\n"
     ]
    }
   ],
   "source": [
    "#Dictionaries\n",
    "new_dict = {\"name\":\"Roger\",\"age\":10}\n",
    "print(new_dict.get(\"name\"))\n",
    "print(new_dict.get(\"breed\"))"
   ]
  },
  {
   "cell_type": "code",
   "execution_count": 95,
   "metadata": {},
   "outputs": [
    {
     "name": "stdout",
     "output_type": "stream",
     "text": [
      "True\n",
      "Deepak is my name.\n",
      "DEEPAK IS MY NAME.\n",
      "False\n"
     ]
    }
   ],
   "source": [
    "#Miscellaneous\n",
    "\n",
    "'''& binary AND, | binary OR, ^ binary XOR, ~ binary NOT, << shift left operation, >> shift right operation'''\n",
    "\n",
    "'is - identity operator - returns True if both objects are the same'\n",
    "'in - instance operator, checks if the left hand side value is present in the right hand side'\n",
    "\n",
    "#ternary operator\n",
    "a = 19\n",
    "print(True if a > 18 else False) \n",
    "\n",
    "name = \"Deepak\"\n",
    "name += \" is my name.\"\n",
    "print(name)\n",
    "print(name.upper())\n",
    "#Title names the first letter of the string capital and the rest small\n",
    "name2 = \"\"\n",
    "print(name2.isalpha())\n",
    "\n",
    "#The methods below give a new and modified string, they do not alter a string\n",
    "#isalpha() - checks if a string has alphabets and not empty\n",
    "#come to this later...\n",
    "\n",
    "# any() method returns True if any values in the list is True\n",
    "# all() reuturns true "
   ]
  },
  {
   "cell_type": "code",
   "execution_count": 96,
   "metadata": {},
   "outputs": [
    {
     "name": "stdout",
     "output_type": "stream",
     "text": [
      "2.0\n",
      "3.0\n"
     ]
    }
   ],
   "source": [
    "#complex_numbers\n",
    "comp_var1 = 2 + 3j\n",
    "comp_var2 = 4 + 5j \n",
    "print(comp_var1.real)\n",
    "print(comp_var1.imag)"
   ]
  },
  {
   "cell_type": "code",
   "execution_count": 97,
   "metadata": {},
   "outputs": [
    {
     "name": "stdout",
     "output_type": "stream",
     "text": [
      "1\n",
      "state.ACTIVE\n"
     ]
    }
   ],
   "source": [
    "#enum for creating constants\n",
    "from enum import Enum\n",
    "class state(Enum):\n",
    "    INACTIVE = 0\n",
    "    ACTIVE = 1\n",
    "\n",
    "print(state.ACTIVE.value)\n",
    "print(state['ACTIVE'])"
   ]
  },
  {
   "cell_type": "code",
   "execution_count": 75,
   "metadata": {},
   "outputs": [
    {
     "name": "stdout",
     "output_type": "stream",
     "text": [
      "You chose  and computer chose rock\n",
      "<class 'str'> <class 'str'>\n",
      "computer wins !\n"
     ]
    }
   ],
   "source": [
    "#Rock Paper Scissors Game\n",
    "\n",
    "import random \n",
    "def get_player_value():\n",
    "    choices = [\"rock\",\"paper\",\"scissors\"]\n",
    "    computer = random.choice(choices)\n",
    "    player = str(input(\"type either rock,paper or scissors\"))\n",
    "    choices = {\"player\": player,\"computer\":computer}\n",
    "    return choices\n",
    "\n",
    "def check_win(player,computer):\n",
    "    print(f\"You chose {player} and computer chose {computer}\")\n",
    "    print(type(player),type(computer))\n",
    "    if player == computer:\n",
    "        return \"It is a tie!\"\n",
    "    elif player == \"rock\":\n",
    "        if computer == \"paper\":\n",
    "            return \"paper covers rock, computer wins !\"\n",
    "        else:\n",
    "            return \"player wins !\"\n",
    "    elif player == \"paper\":\n",
    "        if computer == \"rock\":\n",
    "            return \"paper covers rock, player wins !\"\n",
    "        else:\n",
    "            return \"computer wins !\"\n",
    "    else:\n",
    "        if computer == \"paper\":\n",
    "            return \"scissors cut paper, player wins !\"\n",
    "        else:\n",
    "            return \"computer wins !\"\n",
    "\n",
    "values = get_player_value()\n",
    "print(check_win(values[\"player\"],values[\"computer\"]))\n",
    "            "
   ]
  },
  {
   "cell_type": "code",
   "execution_count": 76,
   "metadata": {},
   "outputs": [
    {
     "name": "stdout",
     "output_type": "stream",
     "text": [
      "[1, 4, 9, 16, 25, 36]\n",
      "[4, 16, 36]\n"
     ]
    }
   ],
   "source": [
    "#Exercise: Filtering Even Numbers from a List Using filter() and map()\n",
    "#Given a list of numbers, first use map() to square each number.\n",
    "#Then, use filter() to keep only the even squared numbers.\n",
    "#Print the final filtered list.\n",
    "\n",
    "numbers = [1,2,3,4,5,6]\n",
    "ans_1 = list(map(lambda x:x**2,numbers))\n",
    "print(ans_1)\n",
    "\n",
    "ans_2 = list(filter(lambda x: x % 2 == 0,ans_1))\n",
    "print(ans_2)"
   ]
  }
 ],
 "metadata": {
  "kernelspec": {
   "display_name": "venv",
   "language": "python",
   "name": "python3"
  },
  "language_info": {
   "codemirror_mode": {
    "name": "ipython",
    "version": 3
   },
   "file_extension": ".py",
   "mimetype": "text/x-python",
   "name": "python",
   "nbconvert_exporter": "python",
   "pygments_lexer": "ipython3",
   "version": "3.12.2"
  }
 },
 "nbformat": 4,
 "nbformat_minor": 2
}
