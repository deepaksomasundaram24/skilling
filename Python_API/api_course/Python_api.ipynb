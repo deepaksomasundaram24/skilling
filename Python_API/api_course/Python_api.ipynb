{
 "cells": [
  {
   "cell_type": "markdown",
   "metadata": {},
   "source": [
    "Techstack\n",
    "python, fastAPI, postgress, sqlalchemy"
   ]
  },
  {
   "cell_type": "code",
   "execution_count": 2,
   "metadata": {
    "tags": [
     "\"run_this\""
    ]
   },
   "outputs": [],
   "source": [
    "#A test case to understand httpsrequests, wrapper functions and decorators\n",
    "#Decorators are used to midify the functionality of code witout altering the function definition\n",
    "\n",
    "#This function is used to get the running time of a function.\n",
    "from fastapi import FastAPI\n",
    "import time \n",
    "\n",
    "app = FastAPI()\n",
    "def get_func_time(func):\n",
    "    def wrapper(*args,**kwargs):\n",
    "            start_time = time.time()\n",
    "            result = func(*args,**kwargs)\n",
    "            end_time = time.time()\n",
    "            return result\n",
    "    return wrapper\n",
    "\n",
    "@app.get(\"/hello\")\n",
    "@get_func_time\n",
    "def sample_function(name):\n",
    "      return {\"message\":f\"Hello! {name}.\"} #reuturn is in dict format (json) preferred evethough fastAPI automatically wraps it around a json\n",
    "    "
   ]
  },
  {
   "cell_type": "code",
   "execution_count": null,
   "metadata": {},
   "outputs": [
    {
     "ename": "ModuleNotFoundError",
     "evalue": "No module named 'papermill'",
     "output_type": "error",
     "traceback": [
      "\u001b[0;31m---------------------------------------------------------------------------\u001b[0m",
      "\u001b[0;31mModuleNotFoundError\u001b[0m                       Traceback (most recent call last)",
      "Cell \u001b[0;32mIn[8], line 2\u001b[0m\n\u001b[1;32m      1\u001b[0m \u001b[38;5;28;01mfrom\u001b[39;00m\u001b[38;5;250m \u001b[39m\u001b[38;5;21;01mfastapi\u001b[39;00m\u001b[38;5;250m \u001b[39m\u001b[38;5;28;01mimport\u001b[39;00m FastAPI\n\u001b[0;32m----> 2\u001b[0m \u001b[38;5;28;01mimport\u001b[39;00m\u001b[38;5;250m \u001b[39m\u001b[38;5;21;01mpapermill\u001b[39;00m\u001b[38;5;250m \u001b[39m\u001b[38;5;28;01mas\u001b[39;00m\u001b[38;5;250m \u001b[39m\u001b[38;5;21;01mpm\u001b[39;00m\n\u001b[1;32m      4\u001b[0m app \u001b[38;5;241m=\u001b[39m FastAPI()\n\u001b[1;32m      6\u001b[0m \u001b[38;5;129m@app\u001b[39m\u001b[38;5;241m.\u001b[39mget(\u001b[38;5;124m\"\u001b[39m\u001b[38;5;124m/run-notebook\u001b[39m\u001b[38;5;124m\"\u001b[39m)\n\u001b[1;32m      7\u001b[0m \u001b[38;5;28;01mdef\u001b[39;00m\u001b[38;5;250m \u001b[39m\u001b[38;5;21mrun_notebook\u001b[39m():\n",
      "\u001b[0;31mModuleNotFoundError\u001b[0m: No module named 'papermill'"
     ]
    }
   ],
   "source": [
    "from fastapi import FastAPI\n",
    "import papermill as pm\n",
    "\n",
    "app = FastAPI()\n",
    "\n",
    "@app.get(\"/run-notebook\")\n",
    "def run_notebook():\n",
    "    input_nb = \"Python_api.ipynb\"\n",
    "    output_nb = \"Python_api_output.ipynb\"\n",
    "    \n",
    "    # Run only the tagged cell using papermill\n",
    "    pm.execute_notebook(input_nb, output_nb, parameters={})\n",
    "\n",
    "    return {\"message\": \"Notebook executed successfully!\", \"output\": output_nb}"
   ]
  },
  {
   "cell_type": "markdown",
   "metadata": {},
   "source": [
    "uvicorn main:app --reload #this commadn refreshes the page "
   ]
  }
 ],
 "metadata": {
  "kernelspec": {
   "display_name": "venv",
   "language": "python",
   "name": "python3"
  },
  "language_info": {
   "codemirror_mode": {
    "name": "ipython",
    "version": 3
   },
   "file_extension": ".py",
   "mimetype": "text/x-python",
   "name": "python",
   "nbconvert_exporter": "python",
   "pygments_lexer": "ipython3",
   "version": "3.12.2"
  }
 },
 "nbformat": 4,
 "nbformat_minor": 2
}
