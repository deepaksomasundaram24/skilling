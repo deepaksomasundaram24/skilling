{
 "cells": [
  {
   "cell_type": "markdown",
   "metadata": {},
   "source": [
    "R 33: Understanding classes, objects, and how OOP models real-world scenarios"
   ]
  },
  {
   "cell_type": "code",
   "execution_count": 3,
   "metadata": {},
   "outputs": [
    {
     "name": "stdout",
     "output_type": "stream",
     "text": [
      "Hello, my name is Alice and I am 25 years old.\n"
     ]
    }
   ],
   "source": [
    "#Exercise 1: Create a Basic Class & Object\n",
    "#Define a class Person with attributes name and age.\n",
    "#Create a method greet() that prints \"Hello, my name is <name> and I am <age> years old.\"\n",
    "#Instantiate the class and call the greet() method\n",
    "\n",
    "class Person():\n",
    "    def __init__(self,name,age):\n",
    "        self.name = name\n",
    "        self.age = age\n",
    "\n",
    "    def greet(self):\n",
    "        print(f\"Hello, my name is {self.name} and I am {self.age} years old.\")\n",
    "    \n",
    "alice = Person(\"Alice\",25)\n",
    "alice.greet()\n"
   ]
  },
  {
   "cell_type": "code",
   "execution_count": 8,
   "metadata": {},
   "outputs": [
    {
     "name": "stdout",
     "output_type": "stream",
     "text": [
      "Deposited $100. New balance: $100\n",
      "Deposited $-20. New balance: $100\n"
     ]
    }
   ],
   "source": [
    "#Exercise 2: Implement Encapsulation with Private Attributes\n",
    "#Create a BankAccount class with private attributes __balance and __account_number.\n",
    "#Use a getter method get_balance() to retrieve balance.\n",
    "#Use a setter method deposit(amount) to add money (amount must be positive)\n",
    "\n",
    "class BankAccount():\n",
    "    def __init__(self,account_number,balance = 0):\n",
    "        self.__balance = balance\n",
    "        self.__account_number = account_number\n",
    "\n",
    "    def get_balance(self):\n",
    "        return self.__balance\n",
    "\n",
    "    def deposit(self,amount):\n",
    "        if amount > 0:\n",
    "            self.__balance+= amount\n",
    "        print(f\"Deposited ${amount}. New balance: ${self.__balance}\")\n",
    "\n",
    "\n",
    "client_1 = BankAccount(123)\n",
    "print(client_1.get_balance())\n",
    "client_1.deposit(100)\n",
    "client_1.deposit(-20)"
   ]
  },
  {
   "cell_type": "code",
   "execution_count": 15,
   "metadata": {},
   "outputs": [
    {
     "name": "stdout",
     "output_type": "stream",
     "text": [
      "0\n",
      "Deposited $100. New balance: $100\n",
      "Invalid deposit amount!\n"
     ]
    }
   ],
   "source": [
    "#Exercise 2: Implement Encapsulation with Private Attributes\n",
    "#Create a BankAccount class with private attributes __balance and __account_number.\n",
    "#Use a getter method get_balance() to retrieve balance.\n",
    "#Use a setter method deposit(amount) to add money (amount must be positive)\n",
    "\n",
    "#Alternative method for get_balance() by using __str__() constructor\n",
    "\n",
    "class BankAccount():\n",
    "    def __init__(self,account_number,balance = 0):\n",
    "        self.__balance = balance\n",
    "        self.__account_number = account_number\n",
    "\n",
    "    def __str__(self):\n",
    "        return f\"{self.__balance}\"\n",
    "\n",
    "    def deposit(self,amount):\n",
    "        if amount > 0:\n",
    "            self.__balance+= amount\n",
    "            print(f\"Deposited ${amount}. New balance: ${self.__balance}\")\n",
    "\n",
    "        else:\n",
    "            print(\"Invalid deposit amount!\")\n",
    "\n",
    "client_1 = BankAccount(123)\n",
    "print(client_1)\n",
    "client_1.deposit(100)\n",
    "client_1.deposit(-20)"
   ]
  },
  {
   "cell_type": "code",
   "execution_count": 18,
   "metadata": {},
   "outputs": [
    {
     "name": "stdout",
     "output_type": "stream",
     "text": [
      "Withdrawn $500. Remaining balance: $500\n",
      "Insufficient funds for withdrawal\n"
     ]
    }
   ],
   "source": [
    "#Exercise 6: Prevent Direct Modification of a Private Attribute\n",
    "#Implement a method withdraw(amount) that reduces balance only if there are sufficient funds.\n",
    "#Modify the BankAccount class to prevent negative withdrawals.\n",
    "\n",
    "class BankAccount():\n",
    "    def __init__(self,account_number,balance = 0):\n",
    "        self.__balance = balance\n",
    "        self.__account_number = account_number\n",
    "\n",
    "    def get_balance(self):\n",
    "        return self.__balance\n",
    "\n",
    "    def deposit(self,amount):\n",
    "        if amount > 0:\n",
    "            self.__balance+= amount\n",
    "        print(f\"Deposited ${amount}. New balance: ${self.__balance}\")\n",
    "\n",
    "    def withdraw(self,amount):\n",
    "        if self.__balance - amount >= 0:\n",
    "            self.__balance -= amount\n",
    "            print(f\"Withdrawn ${amount}. Remaining balance: ${self.__balance}\")\n",
    "        else:\n",
    "            print(\"Insufficient funds for withdrawal\")\n",
    "\n",
    "client_1 = BankAccount(123,1000)\n",
    "client_1.withdraw(500)\n",
    "client_1.withdraw(600)"
   ]
  }
 ],
 "metadata": {
  "kernelspec": {
   "display_name": "venv",
   "language": "python",
   "name": "python3"
  },
  "language_info": {
   "codemirror_mode": {
    "name": "ipython",
    "version": 3
   },
   "file_extension": ".py",
   "mimetype": "text/x-python",
   "name": "python",
   "nbconvert_exporter": "python",
   "pygments_lexer": "ipython3",
   "version": "3.12.2"
  }
 },
 "nbformat": 4,
 "nbformat_minor": 2
}
